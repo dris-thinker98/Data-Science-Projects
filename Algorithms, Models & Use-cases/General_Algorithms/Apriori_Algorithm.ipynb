{
  "nbformat": 4,
  "nbformat_minor": 0,
  "metadata": {
    "colab": {
      "name": "Apriori_Algorithm.ipynb",
      "provenance": [],
      "collapsed_sections": []
    },
    "kernelspec": {
      "name": "python3",
      "display_name": "Python 3"
    }
  },
  "cells": [
    {
      "cell_type": "code",
      "metadata": {
        "id": "QcNU1EMRJINK",
        "colab_type": "code",
        "colab": {}
      },
      "source": [
        "!pip install -U -q PyDrive\n",
        "from pydrive.auth import GoogleAuth\n",
        "from pydrive.drive import GoogleDrive\n",
        "from google.colab import auth\n",
        "from oauth2client.client import GoogleCredentials"
      ],
      "execution_count": 0,
      "outputs": []
    },
    {
      "cell_type": "code",
      "metadata": {
        "id": "2j1QliGYmsfq",
        "colab_type": "code",
        "colab": {}
      },
      "source": [
        "#authenticate\n",
        "auth.authenticate_user()\n",
        "gauth = GoogleAuth()\n",
        "gauth.credentials = GoogleCredentials.get_application_default()\n",
        "drive = GoogleDrive(gauth)"
      ],
      "execution_count": 0,
      "outputs": []
    },
    {
      "cell_type": "code",
      "metadata": {
        "id": "OZL7pSUzxDLw",
        "colab_type": "code",
        "colab": {}
      },
      "source": [
        "import numpy as np \n",
        "import pandas as pd \n",
        "from mlxtend.frequent_patterns import apriori, association_rules "
      ],
      "execution_count": 0,
      "outputs": []
    },
    {
      "cell_type": "code",
      "metadata": {
        "id": "8HV_CZCcxNFa",
        "colab_type": "code",
        "colab": {}
      },
      "source": [
        "#https://drive.google.com/open?id=1kfy_mlM_9DqcM-nGxlSuX5_bISqhm-P7\n",
        "myfile = drive.CreateFile({'id': '1kfy_mlM_9DqcM-nGxlSuX5_bISqhm-P7'})\n",
        "myfile.GetContentFile('Online Retail.xlsx')"
      ],
      "execution_count": 0,
      "outputs": []
    },
    {
      "cell_type": "code",
      "metadata": {
        "id": "eNAWZ5ogJ-xV",
        "colab_type": "code",
        "outputId": "3f2d4890-f9d0-48f4-bf15-b2f0d4993b72",
        "colab": {
          "base_uri": "https://localhost:8080/",
          "height": 204
        }
      },
      "source": [
        "data = pd.read_excel(\"Online Retail.xlsx\")\n",
        "data.head()"
      ],
      "execution_count": 76,
      "outputs": [
        {
          "output_type": "execute_result",
          "data": {
            "text/html": [
              "<div>\n",
              "<style scoped>\n",
              "    .dataframe tbody tr th:only-of-type {\n",
              "        vertical-align: middle;\n",
              "    }\n",
              "\n",
              "    .dataframe tbody tr th {\n",
              "        vertical-align: top;\n",
              "    }\n",
              "\n",
              "    .dataframe thead th {\n",
              "        text-align: right;\n",
              "    }\n",
              "</style>\n",
              "<table border=\"1\" class=\"dataframe\">\n",
              "  <thead>\n",
              "    <tr style=\"text-align: right;\">\n",
              "      <th></th>\n",
              "      <th>InvoiceNo</th>\n",
              "      <th>StockCode</th>\n",
              "      <th>Description</th>\n",
              "      <th>Quantity</th>\n",
              "      <th>InvoiceDate</th>\n",
              "      <th>UnitPrice</th>\n",
              "      <th>CustomerID</th>\n",
              "      <th>Country</th>\n",
              "    </tr>\n",
              "  </thead>\n",
              "  <tbody>\n",
              "    <tr>\n",
              "      <th>0</th>\n",
              "      <td>536365</td>\n",
              "      <td>85123A</td>\n",
              "      <td>WHITE HANGING HEART T-LIGHT HOLDER</td>\n",
              "      <td>6</td>\n",
              "      <td>2010-12-01 08:26:00</td>\n",
              "      <td>2.55</td>\n",
              "      <td>17850.0</td>\n",
              "      <td>United Kingdom</td>\n",
              "    </tr>\n",
              "    <tr>\n",
              "      <th>1</th>\n",
              "      <td>536365</td>\n",
              "      <td>71053</td>\n",
              "      <td>WHITE METAL LANTERN</td>\n",
              "      <td>6</td>\n",
              "      <td>2010-12-01 08:26:00</td>\n",
              "      <td>3.39</td>\n",
              "      <td>17850.0</td>\n",
              "      <td>United Kingdom</td>\n",
              "    </tr>\n",
              "    <tr>\n",
              "      <th>2</th>\n",
              "      <td>536365</td>\n",
              "      <td>84406B</td>\n",
              "      <td>CREAM CUPID HEARTS COAT HANGER</td>\n",
              "      <td>8</td>\n",
              "      <td>2010-12-01 08:26:00</td>\n",
              "      <td>2.75</td>\n",
              "      <td>17850.0</td>\n",
              "      <td>United Kingdom</td>\n",
              "    </tr>\n",
              "    <tr>\n",
              "      <th>3</th>\n",
              "      <td>536365</td>\n",
              "      <td>84029G</td>\n",
              "      <td>KNITTED UNION FLAG HOT WATER BOTTLE</td>\n",
              "      <td>6</td>\n",
              "      <td>2010-12-01 08:26:00</td>\n",
              "      <td>3.39</td>\n",
              "      <td>17850.0</td>\n",
              "      <td>United Kingdom</td>\n",
              "    </tr>\n",
              "    <tr>\n",
              "      <th>4</th>\n",
              "      <td>536365</td>\n",
              "      <td>84029E</td>\n",
              "      <td>RED WOOLLY HOTTIE WHITE HEART.</td>\n",
              "      <td>6</td>\n",
              "      <td>2010-12-01 08:26:00</td>\n",
              "      <td>3.39</td>\n",
              "      <td>17850.0</td>\n",
              "      <td>United Kingdom</td>\n",
              "    </tr>\n",
              "  </tbody>\n",
              "</table>\n",
              "</div>"
            ],
            "text/plain": [
              "  InvoiceNo StockCode  ... CustomerID         Country\n",
              "0    536365    85123A  ...    17850.0  United Kingdom\n",
              "1    536365     71053  ...    17850.0  United Kingdom\n",
              "2    536365    84406B  ...    17850.0  United Kingdom\n",
              "3    536365    84029G  ...    17850.0  United Kingdom\n",
              "4    536365    84029E  ...    17850.0  United Kingdom\n",
              "\n",
              "[5 rows x 8 columns]"
            ]
          },
          "metadata": {
            "tags": []
          },
          "execution_count": 76
        }
      ]
    },
    {
      "cell_type": "code",
      "metadata": {
        "id": "Gef2uJGWa-p7",
        "colab_type": "code",
        "outputId": "1b4135f6-4acb-459e-e76d-48266fa6bdf9",
        "colab": {
          "base_uri": "https://localhost:8080/",
          "height": 68
        }
      },
      "source": [
        "# Exploring the columns of the data \n",
        "data.columns "
      ],
      "execution_count": 77,
      "outputs": [
        {
          "output_type": "execute_result",
          "data": {
            "text/plain": [
              "Index(['InvoiceNo', 'StockCode', 'Description', 'Quantity', 'InvoiceDate',\n",
              "       'UnitPrice', 'CustomerID', 'Country'],\n",
              "      dtype='object')"
            ]
          },
          "metadata": {
            "tags": []
          },
          "execution_count": 77
        }
      ]
    },
    {
      "cell_type": "code",
      "metadata": {
        "id": "Z8AO5-kIbiAA",
        "colab_type": "code",
        "outputId": "89b37c2a-9146-46bd-cb89-5690ccf78ec0",
        "colab": {
          "base_uri": "https://localhost:8080/",
          "height": 153
        }
      },
      "source": [
        "# Exploring the different regions of transactions \n",
        "data.Country.unique() "
      ],
      "execution_count": 78,
      "outputs": [
        {
          "output_type": "execute_result",
          "data": {
            "text/plain": [
              "array(['United Kingdom', 'France', 'Australia', 'Netherlands', 'Germany',\n",
              "       'Norway', 'EIRE', 'Switzerland', 'Spain', 'Poland', 'Portugal',\n",
              "       'Italy', 'Belgium', 'Lithuania', 'Japan', 'Iceland',\n",
              "       'Channel Islands', 'Denmark', 'Cyprus', 'Sweden', 'Austria',\n",
              "       'Israel', 'Finland', 'Bahrain', 'Greece', 'Hong Kong', 'Singapore',\n",
              "       'Lebanon', 'United Arab Emirates', 'Saudi Arabia',\n",
              "       'Czech Republic', 'Canada', 'Unspecified', 'Brazil', 'USA',\n",
              "       'European Community', 'Malta', 'RSA'], dtype=object)"
            ]
          },
          "metadata": {
            "tags": []
          },
          "execution_count": 78
        }
      ]
    },
    {
      "cell_type": "markdown",
      "metadata": {
        "id": "T2jP3JpmbvNo",
        "colab_type": "text"
      },
      "source": [
        "Cleaning the Data"
      ]
    },
    {
      "cell_type": "code",
      "metadata": {
        "id": "eNdxbuwXblvA",
        "colab_type": "code",
        "colab": {}
      },
      "source": [
        "# Stripping extra spaces in the description \n",
        "data['Description'] = data['Description'].str.strip() "
      ],
      "execution_count": 0,
      "outputs": []
    },
    {
      "cell_type": "code",
      "metadata": {
        "id": "h0tVa6msb61H",
        "colab_type": "code",
        "colab": {}
      },
      "source": [
        "# Dropping the rows without any invoice number \n",
        "data.dropna(axis = 0, subset =['InvoiceNo'], inplace = True) \n",
        "data['InvoiceNo'] = data['InvoiceNo'].astype('str') "
      ],
      "execution_count": 0,
      "outputs": []
    },
    {
      "cell_type": "code",
      "metadata": {
        "id": "mQvVptRCcD0V",
        "colab_type": "code",
        "colab": {}
      },
      "source": [
        "# Dropping all transactions which were done on credit \n",
        "data = data[~data['InvoiceNo'].str.contains('C')] "
      ],
      "execution_count": 0,
      "outputs": []
    },
    {
      "cell_type": "markdown",
      "metadata": {
        "id": "RkOv3LO4cM9L",
        "colab_type": "text"
      },
      "source": [
        "Splitting the data according to the region of transaction"
      ]
    },
    {
      "cell_type": "code",
      "metadata": {
        "id": "BOBBDjRScJUt",
        "colab_type": "code",
        "colab": {}
      },
      "source": [
        "# Transactions done in France \n",
        "basket_France = (data[data['Country'] ==\"France\"] \n",
        "          .groupby(['InvoiceNo', 'Description'])['Quantity'] \n",
        "          .sum().unstack().reset_index().fillna(0) \n",
        "          .set_index('InvoiceNo')) "
      ],
      "execution_count": 0,
      "outputs": []
    },
    {
      "cell_type": "code",
      "metadata": {
        "id": "Y3PIg9_LcTty",
        "colab_type": "code",
        "colab": {}
      },
      "source": [
        "# Transactions done in the United Kingdom \n",
        "basket_UK = (data[data['Country'] ==\"United Kingdom\"] \n",
        "          .groupby(['InvoiceNo', 'Description'])['Quantity'] \n",
        "          .sum().unstack().reset_index().fillna(0) \n",
        "          .set_index('InvoiceNo')) "
      ],
      "execution_count": 0,
      "outputs": []
    },
    {
      "cell_type": "code",
      "metadata": {
        "id": "p6G7xU7Jccf_",
        "colab_type": "code",
        "colab": {}
      },
      "source": [
        "# Transactions done in Portugal \n",
        "basket_Por = (data[data['Country'] ==\"Portugal\"] \n",
        "          .groupby(['InvoiceNo', 'Description'])['Quantity'] \n",
        "          .sum().unstack().reset_index().fillna(0) \n",
        "          .set_index('InvoiceNo')) "
      ],
      "execution_count": 0,
      "outputs": []
    },
    {
      "cell_type": "code",
      "metadata": {
        "id": "YvPODecSckH-",
        "colab_type": "code",
        "colab": {}
      },
      "source": [
        "# Transactions done in Sweden\n",
        "basket_Sweden = (data[data['Country'] ==\"Sweden\"] \n",
        "          .groupby(['InvoiceNo', 'Description'])['Quantity'] \n",
        "          .sum().unstack().reset_index().fillna(0) \n",
        "          .set_index('InvoiceNo')) "
      ],
      "execution_count": 0,
      "outputs": []
    },
    {
      "cell_type": "markdown",
      "metadata": {
        "id": "A9qinkOxc0Xi",
        "colab_type": "text"
      },
      "source": [
        "Hot encoding the Data"
      ]
    },
    {
      "cell_type": "code",
      "metadata": {
        "id": "NB5tWtsqcv4s",
        "colab_type": "code",
        "colab": {}
      },
      "source": [
        "# Defining the hot encoding function to make the data suitable  \n",
        "# for the concerned libraries \n",
        "def hot_encode(x): \n",
        "    if(x<= 0): \n",
        "        return 0\n",
        "    if(x>= 1): \n",
        "        return 1"
      ],
      "execution_count": 0,
      "outputs": []
    },
    {
      "cell_type": "code",
      "metadata": {
        "id": "sFLxIk3Rc9ax",
        "colab_type": "code",
        "colab": {}
      },
      "source": [
        "# Encoding the datasets \n",
        "basket_encoded = basket_France.applymap(hot_encode) \n",
        "basket_France = basket_encoded \n",
        "  \n",
        "basket_encoded = basket_UK.applymap(hot_encode) \n",
        "basket_UK = basket_encoded \n",
        "  \n",
        "basket_encoded = basket_Por.applymap(hot_encode) \n",
        "basket_Por = basket_encoded \n",
        "  \n",
        "basket_encoded = basket_Sweden.applymap(hot_encode) \n",
        "basket_Sweden = basket_encoded "
      ],
      "execution_count": 0,
      "outputs": []
    },
    {
      "cell_type": "markdown",
      "metadata": {
        "id": "zzaxaCGodNyf",
        "colab_type": "text"
      },
      "source": [
        "Buliding the models and analyzing the results"
      ]
    },
    {
      "cell_type": "markdown",
      "metadata": {
        "id": "pZlCS0JgdUW4",
        "colab_type": "text"
      },
      "source": [
        "1) France:"
      ]
    },
    {
      "cell_type": "code",
      "metadata": {
        "id": "7JbZb-u-dJEf",
        "colab_type": "code",
        "colab": {}
      },
      "source": [
        "# Building the model \n",
        "frq_items = apriori(basket_France, min_support = 0.05, use_colnames = True) "
      ],
      "execution_count": 0,
      "outputs": []
    },
    {
      "cell_type": "code",
      "metadata": {
        "id": "Y3oAyuJVddZ9",
        "colab_type": "code",
        "outputId": "df7cb080-ed64-408f-f592-0e95810e523e",
        "colab": {
          "base_uri": "https://localhost:8080/",
          "height": 153
        }
      },
      "source": [
        "# Collecting the inferred rules in a dataframe \n",
        "rules = association_rules(frq_items, metric =\"lift\", min_threshold = 1) \n",
        "rules = rules.sort_values(['confidence', 'lift'], ascending =[False, False]) \n",
        "print(rules.head()) "
      ],
      "execution_count": 89,
      "outputs": [
        {
          "output_type": "stream",
          "text": [
            "                                           antecedents  ... conviction\n",
            "44                        (JUMBO BAG WOODLAND ANIMALS)  ...        inf\n",
            "259  (RED TOADSTOOL LED NIGHT LIGHT, PLASTERS IN TI...  ...        inf\n",
            "270  (RED TOADSTOOL LED NIGHT LIGHT, PLASTERS IN TI...  ...        inf\n",
            "301  (SET/6 RED SPOTTY PAPER CUPS, SET/20 RED RETRO...  ...  34.897959\n",
            "302  (SET/6 RED SPOTTY PAPER PLATES, SET/20 RED RET...  ...  34.489796\n",
            "\n",
            "[5 rows x 9 columns]\n"
          ],
          "name": "stdout"
        }
      ]
    },
    {
      "cell_type": "markdown",
      "metadata": {
        "id": "gHsVMEVUm-bA",
        "colab_type": "text"
      },
      "source": [
        "From the above output, it can be seen that paper cups and paper and plates are bought together in France. This is because the French have a culture of having a get-together with their friends and family atleast once a week. Also, since the French government has banned the use of plastic in the country, the people have to purchase the paper -based alternatives."
      ]
    },
    {
      "cell_type": "markdown",
      "metadata": {
        "id": "6HeX3pJYnc-k",
        "colab_type": "text"
      },
      "source": [
        "---------------------------------------------------------------------"
      ]
    },
    {
      "cell_type": "markdown",
      "metadata": {
        "id": "9_6UynLanWAw",
        "colab_type": "text"
      },
      "source": [
        "2) United Kingdom:"
      ]
    },
    {
      "cell_type": "code",
      "metadata": {
        "id": "m0y1G371mfd7",
        "colab_type": "code",
        "colab": {}
      },
      "source": [
        "# Building the model\n",
        "frq_items = apriori(basket_UK, min_support = 0.01, use_colnames = True) "
      ],
      "execution_count": 0,
      "outputs": []
    },
    {
      "cell_type": "code",
      "metadata": {
        "id": "vcYgepcGoIt-",
        "colab_type": "code",
        "colab": {
          "base_uri": "https://localhost:8080/",
          "height": 153
        },
        "outputId": "f76f8c6c-22aa-4ef5-fa1f-b98031ed9429"
      },
      "source": [
        "# Collecting the inferred rules in a dataframe \n",
        "rules = association_rules(frq_items, metric =\"lift\", min_threshold = 1) \n",
        "rules = rules.sort_values(['confidence', 'lift'], ascending =[False, False]) \n",
        "print(rules.head()) "
      ],
      "execution_count": 91,
      "outputs": [
        {
          "output_type": "stream",
          "text": [
            "                                       antecedents  ... conviction\n",
            "117           (BEADED CRYSTAL HEART PINK ON STICK)  ...  39.637371\n",
            "2020  (JAM MAKING SET PRINTED, SUKI  SHOULDER BAG)  ...  26.096206\n",
            "2295         (HERB MARKER MINT, HERB MARKER THYME)  ...  21.947227\n",
            "2301   (HERB MARKER ROSEMARY, HERB MARKER PARSLEY)  ...  20.444951\n",
            "2302      (HERB MARKER THYME, HERB MARKER PARSLEY)  ...  20.443842\n",
            "\n",
            "[5 rows x 9 columns]\n"
          ],
          "name": "stdout"
        }
      ]
    },
    {
      "cell_type": "markdown",
      "metadata": {
        "id": "l1hgVar0slo2",
        "colab_type": "text"
      },
      "source": [
        "If the rules for British transactions are analyzed a little deeper, it is seen that the British people buy different coloured tea-plates together. A reason behind this may be because typically the British enjoy tea very much and often collect different coloured tea-plates for different ocassions."
      ]
    },
    {
      "cell_type": "markdown",
      "metadata": {
        "id": "MCpn8iNXygWp",
        "colab_type": "text"
      },
      "source": [
        "-----------------------------------------------------------------"
      ]
    },
    {
      "cell_type": "markdown",
      "metadata": {
        "id": "b28Q9L1-ymqi",
        "colab_type": "text"
      },
      "source": [
        " 3) Portugal:"
      ]
    },
    {
      "cell_type": "code",
      "metadata": {
        "id": "glbloNlLsfCg",
        "colab_type": "code",
        "colab": {}
      },
      "source": [
        "# Building the model\n",
        "frq_items = apriori(basket_Por, min_support = 0.05, use_colnames = True) "
      ],
      "execution_count": 0,
      "outputs": []
    },
    {
      "cell_type": "code",
      "metadata": {
        "id": "Zms00ZlCzaCE",
        "colab_type": "code",
        "colab": {
          "base_uri": "https://localhost:8080/",
          "height": 153
        },
        "outputId": "70d2e331-8f66-4e7f-a67a-654add8dcc10"
      },
      "source": [
        "# Collecting the inferred rules in a dataframe\n",
        "rules = association_rules(frq_items, metric =\"lift\", min_threshold = 1) \n",
        "rules = rules.sort_values(['confidence', 'lift'], ascending =[False, False]) \n",
        "print(rules.head()) "
      ],
      "execution_count": 93,
      "outputs": [
        {
          "output_type": "stream",
          "text": [
            "                             antecedents  ... conviction\n",
            "1170    (SET 12 COLOUR PENCILS SPACEBOY)  ...        inf\n",
            "1171  (SET 12 COLOUR PENCILS DOLLY GIRL)  ...        inf\n",
            "1172  (SET OF 4 KNICK KNACK TINS LONDON)  ...        inf\n",
            "1173  (SET 12 COLOUR PENCILS DOLLY GIRL)  ...        inf\n",
            "1174  (SET 12 COLOUR PENCILS DOLLY GIRL)  ...        inf\n",
            "\n",
            "[5 rows x 9 columns]\n"
          ],
          "name": "stdout"
        }
      ]
    },
    {
      "cell_type": "markdown",
      "metadata": {
        "id": "zVjiyIUO0jqK",
        "colab_type": "text"
      },
      "source": [
        "On analyzing the association rules for Portuguese transactions, it is observed that Tiffin sets (Knick Knack Tins) and colour pencils. These two products typically belong to a primary school going kid. These two products are required by children in school to carry their lunch and for creative work respectively and hence are logically make sense to be paired together."
      ]
    },
    {
      "cell_type": "markdown",
      "metadata": {
        "id": "pxPnXPlq1nX9",
        "colab_type": "text"
      },
      "source": [
        "---------------------------------------------------------------------"
      ]
    },
    {
      "cell_type": "markdown",
      "metadata": {
        "id": "_MGcym4g2wEa",
        "colab_type": "text"
      },
      "source": [
        "4) Sweden:"
      ]
    },
    {
      "cell_type": "code",
      "metadata": {
        "id": "_4cuAIyB3CdQ",
        "colab_type": "code",
        "colab": {}
      },
      "source": [
        "# Building the model\n",
        "frq_items = apriori(basket_Sweden, min_support = 0.05, use_colnames = True) "
      ],
      "execution_count": 0,
      "outputs": []
    },
    {
      "cell_type": "code",
      "metadata": {
        "id": "eD7tlVxJ3hQ9",
        "colab_type": "code",
        "colab": {
          "base_uri": "https://localhost:8080/",
          "height": 153
        },
        "outputId": "d571240f-78c7-4958-f6c1-b9163db5ea6e"
      },
      "source": [
        "# Collecting the inferred rules in a dataframe\n",
        "rules = association_rules(frq_items, metric =\"lift\", min_threshold = 1) \n",
        "rules = rules.sort_values(['confidence', 'lift'], ascending =[False, False]) \n",
        "print(rules.head()) "
      ],
      "execution_count": 95,
      "outputs": [
        {
          "output_type": "stream",
          "text": [
            "                           antecedents  ... conviction\n",
            "0        (12 PENCILS SMALL TUBE SKULL)  ...        inf\n",
            "1        (PACK OF 72 SKULL CAKE CASES)  ...        inf\n",
            "4              (36 DOILIES DOLLY GIRL)  ...        inf\n",
            "5       (ASSORTED BOTTLE TOP  MAGNETS)  ...        inf\n",
            "180  (CHILDRENS CUTLERY CIRCUS PARADE)  ...        inf\n",
            "\n",
            "[5 rows x 9 columns]\n"
          ],
          "name": "stdout"
        }
      ]
    },
    {
      "cell_type": "markdown",
      "metadata": {
        "id": "Qi280FEQ32mh",
        "colab_type": "text"
      },
      "source": [
        "On analyzing the above rules for Sweden, it is found that boys’ and girls’ cutlery are paired together. This makes practical sense because when a parent goes shopping for cutlery for his/her children, he/she would want the product to be a little customized according to the kid’s wishes."
      ]
    },
    {
      "cell_type": "code",
      "metadata": {
        "id": "7Ddoriid31kt",
        "colab_type": "code",
        "colab": {}
      },
      "source": [
        ""
      ],
      "execution_count": 0,
      "outputs": []
    }
  ]
}
