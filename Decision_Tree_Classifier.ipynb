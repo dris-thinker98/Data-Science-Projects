{
  "nbformat": 4,
  "nbformat_minor": 0,
  "metadata": {
    "colab": {
      "name": "Decision Tree Classifier.ipynb",
      "version": "0.3.2",
      "provenance": []
    },
    "kernelspec": {
      "name": "python3",
      "display_name": "Python 3"
    }
  },
  "cells": [
    {
      "metadata": {
        "id": "ExSIQKuHIEr9",
        "colab_type": "text"
      },
      "cell_type": "markdown",
      "source": [
        "# **Decision Tree Classifier**\n",
        "\n",
        "Decision Tree algorithm belongs to the family of supervised learning algorithms. Unlike other supervised learning algorithms, decision tree algorithm can be used for solving regression and classification problems too.\n",
        "The general motive of using Decision Tree is to create a training model which can use to predict class or value of target variables by learning decision rules inferred from prior data(training data).\n",
        "\n",
        "**Decision Tree Algorithm Pseudocode**\n",
        "\n",
        "Place the best attribute of the dataset at the root of the tree.\n",
        "Split the training set into subsets. Subsets should be made in such a way that each subset contains data with the same value for an attribute.\n",
        "Repeat step 1 and step 2 on each subset until you find leaf nodes in all the branches of the tree."
      ]
    },
    {
      "metadata": {
        "id": "cSJ2Yahv3ssR",
        "colab_type": "code",
        "colab": {
          "base_uri": "https://localhost:8080/",
          "height": 52
        },
        "outputId": "fc1d05e0-6d81-4b20-f9d9-2be80b01c9ef"
      },
      "cell_type": "code",
      "source": [
        "!pip install -U -q PyDrive\n",
        "from pydrive.auth import GoogleAuth\n",
        "from pydrive.drive import GoogleDrive\n",
        "from google.colab import auth\n",
        "from oauth2client.client import GoogleCredentials"
      ],
      "execution_count": 2,
      "outputs": [
        {
          "output_type": "stream",
          "text": [
            "\u001b[?25l\r\u001b[K    1% |▎                               | 10kB 18.1MB/s eta 0:00:01\r\u001b[K    2% |▋                               | 20kB 1.8MB/s eta 0:00:01\r\u001b[K    3% |█                               | 30kB 2.6MB/s eta 0:00:01\r\u001b[K    4% |█▎                              | 40kB 1.7MB/s eta 0:00:01\r\u001b[K    5% |█▋                              | 51kB 2.1MB/s eta 0:00:01\r\u001b[K    6% |██                              | 61kB 2.5MB/s eta 0:00:01\r\u001b[K    7% |██▎                             | 71kB 2.9MB/s eta 0:00:01\r\u001b[K    8% |██▋                             | 81kB 3.3MB/s eta 0:00:01\r\u001b[K    9% |███                             | 92kB 3.7MB/s eta 0:00:01\r\u001b[K    10% |███▎                            | 102kB 2.8MB/s eta 0:00:01\r\u001b[K    11% |███▋                            | 112kB 2.8MB/s eta 0:00:01\r\u001b[K    12% |████                            | 122kB 4.0MB/s eta 0:00:01\r\u001b[K    13% |████▎                           | 133kB 4.0MB/s eta 0:00:01\r\u001b[K    14% |████▋                           | 143kB 7.5MB/s eta 0:00:01\r\u001b[K    15% |█████                           | 153kB 7.6MB/s eta 0:00:01\r\u001b[K    16% |█████▎                          | 163kB 7.6MB/s eta 0:00:01\r\u001b[K    17% |█████▋                          | 174kB 7.6MB/s eta 0:00:01\r\u001b[K    18% |██████                          | 184kB 7.7MB/s eta 0:00:01\r\u001b[K    19% |██████▎                         | 194kB 7.7MB/s eta 0:00:01\r\u001b[K    20% |██████▋                         | 204kB 44.9MB/s eta 0:00:01\r\u001b[K    21% |███████                         | 215kB 8.3MB/s eta 0:00:01\r\u001b[K    22% |███████▎                        | 225kB 8.3MB/s eta 0:00:01\r\u001b[K    23% |███████▋                        | 235kB 8.4MB/s eta 0:00:01\r\u001b[K    24% |████████                        | 245kB 8.4MB/s eta 0:00:01\r\u001b[K    25% |████████▎                       | 256kB 8.3MB/s eta 0:00:01\r\u001b[K    26% |████████▋                       | 266kB 8.2MB/s eta 0:00:01\r\u001b[K    27% |█████████                       | 276kB 8.2MB/s eta 0:00:01\r\u001b[K    29% |█████████▎                      | 286kB 8.2MB/s eta 0:00:01\r\u001b[K    30% |█████████▋                      | 296kB 8.2MB/s eta 0:00:01\r\u001b[K    31% |██████████                      | 307kB 8.4MB/s eta 0:00:01\r\u001b[K    32% |██████████▎                     | 317kB 54.9MB/s eta 0:00:01\r\u001b[K    33% |██████████▋                     | 327kB 57.0MB/s eta 0:00:01\r\u001b[K    34% |███████████                     | 337kB 58.6MB/s eta 0:00:01\r\u001b[K    35% |███████████▎                    | 348kB 52.1MB/s eta 0:00:01\r\u001b[K    36% |███████████▋                    | 358kB 52.8MB/s eta 0:00:01\r\u001b[K    37% |████████████                    | 368kB 63.1MB/s eta 0:00:01\r\u001b[K    38% |████████████▎                   | 378kB 62.7MB/s eta 0:00:01\r\u001b[K    39% |████████████▋                   | 389kB 63.7MB/s eta 0:00:01\r\u001b[K    40% |█████████████                   | 399kB 9.5MB/s eta 0:00:01\r\u001b[K    41% |█████████████▎                  | 409kB 9.4MB/s eta 0:00:01\r\u001b[K    42% |█████████████▋                  | 419kB 9.3MB/s eta 0:00:01\r\u001b[K    43% |██████████████                  | 430kB 9.3MB/s eta 0:00:01\r\u001b[K    44% |██████████████▎                 | 440kB 9.2MB/s eta 0:00:01\r\u001b[K    45% |██████████████▋                 | 450kB 9.2MB/s eta 0:00:01\r\u001b[K    46% |███████████████                 | 460kB 9.2MB/s eta 0:00:01\r\u001b[K    47% |███████████████▎                | 471kB 9.2MB/s eta 0:00:01\r\u001b[K    48% |███████████████▋                | 481kB 9.2MB/s eta 0:00:01\r\u001b[K    49% |████████████████                | 491kB 9.2MB/s eta 0:00:01\r\u001b[K    50% |████████████████▎               | 501kB 52.9MB/s eta 0:00:01\r\u001b[K    51% |████████████████▋               | 512kB 52.1MB/s eta 0:00:01\r\u001b[K    52% |█████████████████               | 522kB 54.3MB/s eta 0:00:01\r\u001b[K    53% |█████████████████▎              | 532kB 55.5MB/s eta 0:00:01\r\u001b[K    54% |█████████████████▋              | 542kB 56.5MB/s eta 0:00:01\r\u001b[K    55% |██████████████████              | 552kB 65.8MB/s eta 0:00:01\r\u001b[K    57% |██████████████████▎             | 563kB 68.0MB/s eta 0:00:01\r\u001b[K    58% |██████████████████▋             | 573kB 67.8MB/s eta 0:00:01\r\u001b[K    59% |███████████████████             | 583kB 68.5MB/s eta 0:00:01\r\u001b[K    60% |███████████████████▎            | 593kB 68.5MB/s eta 0:00:01\r\u001b[K    61% |███████████████████▋            | 604kB 68.8MB/s eta 0:00:01\r\u001b[K    62% |████████████████████            | 614kB 78.5MB/s eta 0:00:01\r\u001b[K    63% |████████████████████▎           | 624kB 79.5MB/s eta 0:00:01\r\u001b[K    64% |████████████████████▋           | 634kB 81.7MB/s eta 0:00:01\r\u001b[K    65% |█████████████████████           | 645kB 82.7MB/s eta 0:00:01\r\u001b[K    66% |█████████████████████▎          | 655kB 81.9MB/s eta 0:00:01\r\u001b[K    67% |█████████████████████▋          | 665kB 55.5MB/s eta 0:00:01\r\u001b[K    68% |██████████████████████          | 675kB 54.8MB/s eta 0:00:01\r\u001b[K    69% |██████████████████████▎         | 686kB 55.1MB/s eta 0:00:01\r\u001b[K    70% |██████████████████████▋         | 696kB 54.9MB/s eta 0:00:01\r\u001b[K    71% |███████████████████████         | 706kB 54.3MB/s eta 0:00:01\r\u001b[K    72% |███████████████████████▎        | 716kB 55.2MB/s eta 0:00:01\r\u001b[K    73% |███████████████████████▋        | 727kB 54.6MB/s eta 0:00:01\r\u001b[K    74% |████████████████████████        | 737kB 54.1MB/s eta 0:00:01\r\u001b[K    75% |████████████████████████▎       | 747kB 54.5MB/s eta 0:00:01\r\u001b[K    76% |████████████████████████▋       | 757kB 11.9MB/s eta 0:00:01\r\u001b[K    77% |████████████████████████▉       | 768kB 12.7MB/s eta 0:00:01\r\u001b[K    78% |█████████████████████████▏      | 778kB 12.7MB/s eta 0:00:01\r\u001b[K    79% |█████████████████████████▌      | 788kB 12.6MB/s eta 0:00:01\r\u001b[K    80% |█████████████████████████▉      | 798kB 12.6MB/s eta 0:00:01\r\u001b[K    81% |██████████████████████████▏     | 808kB 12.6MB/s eta 0:00:01\r\u001b[K    82% |██████████████████████████▌     | 819kB 12.6MB/s eta 0:00:01\r\u001b[K    83% |██████████████████████████▉     | 829kB 12.6MB/s eta 0:00:01\r\u001b[K    85% |███████████████████████████▏    | 839kB 12.6MB/s eta 0:00:01\r\u001b[K    86% |███████████████████████████▌    | 849kB 12.6MB/s eta 0:00:01\r\u001b[K    87% |███████████████████████████▉    | 860kB 58.4MB/s eta 0:00:01\r\u001b[K    88% |████████████████████████████▏   | 870kB 58.4MB/s eta 0:00:01\r\u001b[K    89% |████████████████████████████▌   | 880kB 59.2MB/s eta 0:00:01\r\u001b[K    90% |████████████████████████████▉   | 890kB 61.2MB/s eta 0:00:01\r\u001b[K    91% |█████████████████████████████▏  | 901kB 61.5MB/s eta 0:00:01\r\u001b[K    92% |█████████████████████████████▌  | 911kB 61.8MB/s eta 0:00:01\r\u001b[K    93% |█████████████████████████████▉  | 921kB 62.4MB/s eta 0:00:01\r\u001b[K    94% |██████████████████████████████▏ | 931kB 62.3MB/s eta 0:00:01\r\u001b[K    95% |██████████████████████████████▌ | 942kB 62.9MB/s eta 0:00:01\r\u001b[K    96% |██████████████████████████████▉ | 952kB 61.6MB/s eta 0:00:01\r\u001b[K    97% |███████████████████████████████▏| 962kB 78.1MB/s eta 0:00:01\r\u001b[K    98% |███████████████████████████████▌| 972kB 82.8MB/s eta 0:00:01\r\u001b[K    99% |███████████████████████████████▉| 983kB 83.6MB/s eta 0:00:01\r\u001b[K    100% |████████████████████████████████| 993kB 21.6MB/s \n",
            "\u001b[?25h  Building wheel for PyDrive (setup.py) ... \u001b[?25ldone\n",
            "\u001b[?25h"
          ],
          "name": "stdout"
        }
      ]
    },
    {
      "metadata": {
        "id": "5-NKDxdn3-h4",
        "colab_type": "code",
        "colab": {}
      },
      "cell_type": "code",
      "source": [
        "# Authenticate and create the PyDrive client.\n",
        "auth.authenticate_user()\n",
        "gauth = GoogleAuth()\n",
        "gauth.credentials = GoogleCredentials.get_application_default()\n",
        "drive = GoogleDrive(gauth)"
      ],
      "execution_count": 0,
      "outputs": []
    },
    {
      "metadata": {
        "id": "Hh8ZOIi2KKHR",
        "colab_type": "text"
      },
      "cell_type": "markdown",
      "source": [
        "Loading the Iris CSV file:"
      ]
    },
    {
      "metadata": {
        "id": "uD0LILMSAZLb",
        "colab_type": "code",
        "colab": {}
      },
      "cell_type": "code",
      "source": [
        "myfile = drive.CreateFile({'id': '1nr3MZ4izCj09qNkoZOyuhcVsg8GlHISC'})\n",
        "myfile.GetContentFile('iris.csv')"
      ],
      "execution_count": 0,
      "outputs": []
    },
    {
      "metadata": {
        "id": "OyljDUEQC284",
        "colab_type": "code",
        "colab": {}
      },
      "cell_type": "code",
      "source": [
        "import numpy as np\n",
        "import pandas as pd\n",
        "from sklearn.model_selection import train_test_split\n",
        "from sklearn.datasets import load_iris"
      ],
      "execution_count": 0,
      "outputs": []
    },
    {
      "metadata": {
        "id": "4ZEi8L5ZKROa",
        "colab_type": "text"
      },
      "cell_type": "markdown",
      "source": [
        "Printing the keys of the iris dataset:"
      ]
    },
    {
      "metadata": {
        "id": "1Ejii2buC9T2",
        "colab_type": "code",
        "outputId": "d189e176-64da-4f25-e367-51a89ba39c72",
        "colab": {
          "base_uri": "https://localhost:8080/",
          "height": 122
        }
      },
      "cell_type": "code",
      "source": [
        "from sklearn.datasets import load_iris\n",
        "iris=load_iris()\n",
        "for keys in iris.keys() :\n",
        "    print(keys)"
      ],
      "execution_count": 6,
      "outputs": [
        {
          "output_type": "stream",
          "text": [
            "data\n",
            "target\n",
            "target_names\n",
            "DESCR\n",
            "feature_names\n",
            "filename\n"
          ],
          "name": "stdout"
        }
      ]
    },
    {
      "metadata": {
        "id": "OqJdoUAgKqMO",
        "colab_type": "text"
      },
      "cell_type": "markdown",
      "source": [
        "The data we use is usually split into training data and test data. The training set contains a known output and the model learns on this data in order to be generalized to other data later on. We have the test dataset (or subset) in order to test our model’s prediction on this subset.\n",
        "\n",
        "Hence, splitting this iris dataset into the training data and the test data (on which the decision tree classifier wil be used and tested):"
      ]
    },
    {
      "metadata": {
        "id": "1C-WsmaHBkOy",
        "colab_type": "code",
        "colab": {}
      },
      "cell_type": "code",
      "source": [
        "X=iris.data\n",
        "y=iris.target\n",
        "\n",
        "from sklearn.model_selection import train_test_split\n",
        "X_train,X_test,y_train,y_test=train_test_split(X,y,test_size=0.3)"
      ],
      "execution_count": 0,
      "outputs": []
    },
    {
      "metadata": {
        "id": "3SjFAXJlSZzp",
        "colab_type": "code",
        "colab": {}
      },
      "cell_type": "code",
      "source": [
        "from sklearn import svm\n",
        "from sklearn import datasets"
      ],
      "execution_count": 0,
      "outputs": []
    },
    {
      "metadata": {
        "id": "ZwgeCLscMoC1",
        "colab_type": "text"
      },
      "cell_type": "markdown",
      "source": [
        "Importing the Decision Tree Classifier from sklearn.tree"
      ]
    },
    {
      "metadata": {
        "id": "FAN8kZWpIsPY",
        "colab_type": "code",
        "colab": {}
      },
      "cell_type": "code",
      "source": [
        "from sklearn.model_selection import cross_val_score\n",
        "from sklearn.tree import DecisionTreeClassifier"
      ],
      "execution_count": 0,
      "outputs": []
    },
    {
      "metadata": {
        "id": "s10C2YasWhA3",
        "colab_type": "text"
      },
      "cell_type": "markdown",
      "source": [
        "**Cross Validation in Decision Trees:**\n",
        "\n",
        "The purpose of cross validation is to qualify the model, i.e. to provide metrics such as the average error ratio, the deviation relative to this average etc. which can be useful in asserting the level of precision one can expect from the application. "
      ]
    },
    {
      "metadata": {
        "id": "vSe5WcoEPTef",
        "colab_type": "code",
        "outputId": "bff12b68-9065-4c41-8550-8a46e4c41a02",
        "colab": {
          "base_uri": "https://localhost:8080/",
          "height": 52
        }
      },
      "cell_type": "code",
      "source": [
        "clf = DecisionTreeClassifier(random_state=0)\n",
        "cross_val_score(clf, iris.data, iris.target, cv=10)"
      ],
      "execution_count": 10,
      "outputs": [
        {
          "output_type": "execute_result",
          "data": {
            "text/plain": [
              "array([1.        , 0.93333333, 1.        , 0.93333333, 0.93333333,\n",
              "       0.86666667, 0.93333333, 1.        , 1.        , 1.        ])"
            ]
          },
          "metadata": {
            "tags": []
          },
          "execution_count": 10
        }
      ]
    },
    {
      "metadata": {
        "id": "2XGoRYOx0QoS",
        "colab_type": "text"
      },
      "cell_type": "markdown",
      "source": [
        "To understand the percentage of precision of Decision Tree Classifier, we find out the score of the classifier in the x and y test data after fitting the x and y training data to the classifier. The score is 0.95556 and hence the classifier has a precision percentage of 95.556%"
      ]
    },
    {
      "metadata": {
        "id": "0UQGUE1-IyvF",
        "colab_type": "code",
        "outputId": "b2e677c9-379e-451d-aa44-af0726380ece",
        "colab": {
          "base_uri": "https://localhost:8080/",
          "height": 34
        }
      },
      "cell_type": "code",
      "source": [
        "dtc = DecisionTreeClassifier()\n",
        "dtc.fit(X_train, y_train)\n",
        "dtc.score(X_test, y_test)"
      ],
      "execution_count": 18,
      "outputs": [
        {
          "output_type": "execute_result",
          "data": {
            "text/plain": [
              "0.9555555555555556"
            ]
          },
          "metadata": {
            "tags": []
          },
          "execution_count": 18
        }
      ]
    }
  ]
}