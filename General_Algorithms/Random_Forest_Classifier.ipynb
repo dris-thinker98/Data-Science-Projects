{
  "nbformat": 4,
  "nbformat_minor": 0,
  "metadata": {
    "colab": {
      "name": "Random Forest Classifier.ipynb",
      "version": "0.3.2",
      "provenance": [],
      "collapsed_sections": []
    },
    "kernelspec": {
      "name": "python3",
      "display_name": "Python 3"
    }
  },
  "cells": [
    {
      "metadata": {
        "id": "Eget5dvXv-fS",
        "colab_type": "text"
      },
      "cell_type": "markdown",
      "source": [
        "# **Random Forest Classifier**\n",
        "Random Forest Classifier is ensemble algorithm. \n",
        "\n",
        "Ensembled algorithms are those which combines more than one algorithms of same or different kind for classifying objects. For example, running prediction over Naive Bayes, SVM and Decision Tree and then taking vote for final consideration of class for test object."
      ]
    },
    {
      "metadata": {
        "id": "m78IPEwTjdF6",
        "colab_type": "code",
        "colab": {}
      },
      "cell_type": "code",
      "source": [
        "!pip install -U -q PyDrive\n",
        "from pydrive.auth import GoogleAuth\n",
        "from pydrive.drive import GoogleDrive\n",
        "from google.colab import auth\n",
        "from oauth2client.client import GoogleCredentials"
      ],
      "execution_count": 0,
      "outputs": []
    },
    {
      "metadata": {
        "id": "3BSA8L3kxTje",
        "colab_type": "code",
        "colab": {}
      },
      "cell_type": "code",
      "source": [
        "# Authenticate and create the PyDrive client.\n",
        "auth.authenticate_user()\n",
        "gauth = GoogleAuth()\n",
        "gauth.credentials = GoogleCredentials.get_application_default()\n",
        "drive = GoogleDrive(gauth)"
      ],
      "execution_count": 0,
      "outputs": []
    },
    {
      "metadata": {
        "id": "MaD81jspx00A",
        "colab_type": "code",
        "colab": {}
      },
      "cell_type": "code",
      "source": [
        "import numpy as np\n",
        "import pandas as pd\n",
        "\n",
        "import matplotlib.pyplot as plt\n",
        "import seaborn as sns\n",
        "%matplotlib inline\n",
        "\n",
        "import random\n",
        "from pprint import pprint"
      ],
      "execution_count": 0,
      "outputs": []
    },
    {
      "metadata": {
        "id": "AzvkeMDTbhzw",
        "colab_type": "code",
        "colab": {}
      },
      "cell_type": "code",
      "source": [
        "from sklearn.model_selection import train_test_split\n",
        "from sklearn.ensemble import RandomForestClassifier\n",
        "from sklearn.metrics import accuracy_score\n",
        "from sklearn.metrics import confusion_matrix"
      ],
      "execution_count": 0,
      "outputs": []
    },
    {
      "metadata": {
        "id": "xObAtPwEx8UZ",
        "colab_type": "code",
        "colab": {}
      },
      "cell_type": "code",
      "source": [
        "#https://drive.google.com/open?id=19VMQoZJeno0LGeQ8S20WSD75YtJjLGnx\n",
        "#1nr3MZ4izCj09qNkoZOyuhcVsg8GlHISC iris.csv\n",
        "myfile = drive.CreateFile({'id': '19VMQoZJeno0LGeQ8S20WSD75YtJjLGnx'})\n",
        "myfile.GetContentFile('Iris.csv')"
      ],
      "execution_count": 0,
      "outputs": []
    },
    {
      "metadata": {
        "id": "t411lKZtyEyl",
        "colab_type": "code",
        "colab": {}
      },
      "cell_type": "code",
      "source": [
        "df = pd.read_csv(\"Iris.csv\")\n",
        "df = df.drop(\"Id\", axis=1)\n",
        "df = df.rename(columns={\"Species\": \"label\"})"
      ],
      "execution_count": 0,
      "outputs": []
    },
    {
      "metadata": {
        "id": "ZY7JbBC11kEt",
        "colab_type": "code",
        "outputId": "c3a75c62-7e21-4d14-f42f-e2c195ff9b24",
        "colab": {
          "base_uri": "https://localhost:8080/",
          "height": 195
        }
      },
      "cell_type": "code",
      "source": [
        "df.head()"
      ],
      "execution_count": 110,
      "outputs": [
        {
          "output_type": "execute_result",
          "data": {
            "text/html": [
              "<div>\n",
              "<style scoped>\n",
              "    .dataframe tbody tr th:only-of-type {\n",
              "        vertical-align: middle;\n",
              "    }\n",
              "\n",
              "    .dataframe tbody tr th {\n",
              "        vertical-align: top;\n",
              "    }\n",
              "\n",
              "    .dataframe thead th {\n",
              "        text-align: right;\n",
              "    }\n",
              "</style>\n",
              "<table border=\"1\" class=\"dataframe\">\n",
              "  <thead>\n",
              "    <tr style=\"text-align: right;\">\n",
              "      <th></th>\n",
              "      <th>SepalLengthCm</th>\n",
              "      <th>SepalWidthCm</th>\n",
              "      <th>PetalLengthCm</th>\n",
              "      <th>PetalWidthCm</th>\n",
              "      <th>label</th>\n",
              "    </tr>\n",
              "  </thead>\n",
              "  <tbody>\n",
              "    <tr>\n",
              "      <th>0</th>\n",
              "      <td>5.1</td>\n",
              "      <td>3.5</td>\n",
              "      <td>1.4</td>\n",
              "      <td>0.2</td>\n",
              "      <td>Iris-setosa</td>\n",
              "    </tr>\n",
              "    <tr>\n",
              "      <th>1</th>\n",
              "      <td>4.9</td>\n",
              "      <td>3.0</td>\n",
              "      <td>1.4</td>\n",
              "      <td>0.2</td>\n",
              "      <td>Iris-setosa</td>\n",
              "    </tr>\n",
              "    <tr>\n",
              "      <th>2</th>\n",
              "      <td>4.7</td>\n",
              "      <td>3.2</td>\n",
              "      <td>1.3</td>\n",
              "      <td>0.2</td>\n",
              "      <td>Iris-setosa</td>\n",
              "    </tr>\n",
              "    <tr>\n",
              "      <th>3</th>\n",
              "      <td>4.6</td>\n",
              "      <td>3.1</td>\n",
              "      <td>1.5</td>\n",
              "      <td>0.2</td>\n",
              "      <td>Iris-setosa</td>\n",
              "    </tr>\n",
              "    <tr>\n",
              "      <th>4</th>\n",
              "      <td>5.0</td>\n",
              "      <td>3.6</td>\n",
              "      <td>1.4</td>\n",
              "      <td>0.2</td>\n",
              "      <td>Iris-setosa</td>\n",
              "    </tr>\n",
              "  </tbody>\n",
              "</table>\n",
              "</div>"
            ],
            "text/plain": [
              "   SepalLengthCm  SepalWidthCm  PetalLengthCm  PetalWidthCm        label\n",
              "0            5.1           3.5            1.4           0.2  Iris-setosa\n",
              "1            4.9           3.0            1.4           0.2  Iris-setosa\n",
              "2            4.7           3.2            1.3           0.2  Iris-setosa\n",
              "3            4.6           3.1            1.5           0.2  Iris-setosa\n",
              "4            5.0           3.6            1.4           0.2  Iris-setosa"
            ]
          },
          "metadata": {
            "tags": []
          },
          "execution_count": 110
        }
      ]
    },
    {
      "metadata": {
        "id": "N4uPxWQ71qkB",
        "colab_type": "code",
        "colab": {}
      },
      "cell_type": "code",
      "source": [
        "def train_test_split(df, test_size):\n",
        "    \n",
        "    if isinstance(test_size, float):\n",
        "        test_size = round(test_size * len(df))\n",
        "\n",
        "    indices = df.index.tolist()\n",
        "    test_indices = random.sample(population=indices, k=test_size)\n",
        "\n",
        "    test_df = df.loc[test_indices]\n",
        "    train_df = df.drop(test_indices)\n",
        "    \n",
        "    return train_df, test_df"
      ],
      "execution_count": 0,
      "outputs": []
    },
    {
      "metadata": {
        "id": "S1uAOlk2_LDN",
        "colab_type": "code",
        "colab": {}
      },
      "cell_type": "code",
      "source": [
        "random.seed(0)\n",
        "train_df, test_df = train_test_split(df, test_size=20)"
      ],
      "execution_count": 0,
      "outputs": []
    },
    {
      "metadata": {
        "id": "V8pASxgi_Sze",
        "colab_type": "code",
        "outputId": "9b2c539e-1fc0-45ac-91e0-39b39d900c62",
        "colab": {
          "base_uri": "https://localhost:8080/",
          "height": 105
        }
      },
      "cell_type": "code",
      "source": [
        "data = train_df.values\n",
        "data[:5]"
      ],
      "execution_count": 113,
      "outputs": [
        {
          "output_type": "execute_result",
          "data": {
            "text/plain": [
              "array([[5.1, 3.5, 1.4, 0.2, 'Iris-setosa'],\n",
              "       [4.9, 3.0, 1.4, 0.2, 'Iris-setosa'],\n",
              "       [4.7, 3.2, 1.3, 0.2, 'Iris-setosa'],\n",
              "       [4.6, 3.1, 1.5, 0.2, 'Iris-setosa'],\n",
              "       [5.0, 3.6, 1.4, 0.2, 'Iris-setosa']], dtype=object)"
            ]
          },
          "metadata": {
            "tags": []
          },
          "execution_count": 113
        }
      ]
    },
    {
      "metadata": {
        "id": "cdnTcI6j_wqH",
        "colab_type": "code",
        "colab": {}
      },
      "cell_type": "code",
      "source": [
        "def check_purity(data):\n",
        "    \n",
        "    label_column = data[:, -1]\n",
        "    unique_classes = np.unique(label_column)\n",
        "\n",
        "    if len(unique_classes) == 1:\n",
        "        return True\n",
        "    else:\n",
        "        return False"
      ],
      "execution_count": 0,
      "outputs": []
    },
    {
      "metadata": {
        "id": "fxU5Xdlp_3Nf",
        "colab_type": "code",
        "colab": {}
      },
      "cell_type": "code",
      "source": [
        "def classify_data(data):\n",
        "    \n",
        "    label_column = data[:, -1]\n",
        "    unique_classes, counts_unique_classes = np.unique(label_column, return_counts=True)\n",
        "\n",
        "    index = counts_unique_classes.argmax()\n",
        "    classification = unique_classes[index]\n",
        "    \n",
        "    return classification"
      ],
      "execution_count": 0,
      "outputs": []
    },
    {
      "metadata": {
        "id": "nKbOa25Z__Go",
        "colab_type": "code",
        "colab": {}
      },
      "cell_type": "code",
      "source": [
        "def get_potential_splits(data):\n",
        "    \n",
        "    potential_splits = {}\n",
        "    _, n_columns = data.shape\n",
        "    for column_index in range(n_columns - 1):          # excluding the last column which is the label\n",
        "        values = data[:, column_index]\n",
        "        unique_values = np.unique(values)\n",
        "        \n",
        "        type_of_feature = FEATURE_TYPES[column_index]\n",
        "        if type_of_feature == \"continuous\":\n",
        "            potential_splits[column_index] = []\n",
        "            for index in range(len(unique_values)):\n",
        "                if index != 0:\n",
        "                    current_value = unique_values[index]\n",
        "                    previous_value = unique_values[index - 1]\n",
        "                    potential_split = (current_value + previous_value) / 2\n",
        "\n",
        "                    potential_splits[column_index].append(potential_split)\n",
        "        \n",
        "        # feature is categorical\n",
        "        # (there need to be at least 2 unique values, otherwise in the\n",
        "        # split_data function data_below would contain all data points\n",
        "        # and data_above would be empty)\n",
        "        elif len(unique_values) > 1:\n",
        "            potential_splits[column_index] = unique_values\n",
        "    \n",
        "    return potential_splits"
      ],
      "execution_count": 0,
      "outputs": []
    },
    {
      "metadata": {
        "id": "mFbjsAfeB57C",
        "colab_type": "code",
        "colab": {}
      },
      "cell_type": "code",
      "source": [
        "def split_data(data, split_column, split_value):\n",
        "    \n",
        "    split_column_values = data[:, split_column]\n",
        "\n",
        "    type_of_feature = FEATURE_TYPES[split_column]\n",
        "    if type_of_feature == \"continuous\":\n",
        "        data_below = data[split_column_values <= split_value]\n",
        "        data_above = data[split_column_values >  split_value]\n",
        "    \n",
        "    # feature is categorical   \n",
        "    else:\n",
        "        data_below = data[split_column_values == split_value]\n",
        "        data_above = data[split_column_values != split_value]\n",
        "    \n",
        "    return data_below, data_above"
      ],
      "execution_count": 0,
      "outputs": []
    },
    {
      "metadata": {
        "id": "7HaM0siMF_4G",
        "colab_type": "code",
        "colab": {}
      },
      "cell_type": "code",
      "source": [
        "def calculate_entropy(data):\n",
        "    \n",
        "    label_column = data[:, -1]\n",
        "    _, counts = np.unique(label_column, return_counts=True)\n",
        "\n",
        "    probabilities = counts / counts.sum()\n",
        "    entropy = sum(probabilities * -np.log2(probabilities))\n",
        "     \n",
        "    return entropy"
      ],
      "execution_count": 0,
      "outputs": []
    },
    {
      "metadata": {
        "id": "70prMIU2GW1K",
        "colab_type": "code",
        "colab": {}
      },
      "cell_type": "code",
      "source": [
        "def calculate_overall_entropy(data_below, data_above):\n",
        "    \n",
        "    n = len(data_below) + len(data_above)\n",
        "    p_data_below = len(data_below) / n\n",
        "    p_data_above = len(data_above) / n\n",
        "\n",
        "    overall_entropy =  (p_data_below * calculate_entropy(data_below) \n",
        "                      + p_data_above * calculate_entropy(data_above))\n",
        "    \n",
        "    return overall_entropy"
      ],
      "execution_count": 0,
      "outputs": []
    },
    {
      "metadata": {
        "id": "sw0jVIO0JPEY",
        "colab_type": "code",
        "colab": {}
      },
      "cell_type": "code",
      "source": [
        "def determine_best_split(data, potential_splits):\n",
        "    \n",
        "    overall_entropy = 9999\n",
        "    for column_index in potential_splits:\n",
        "        for value in potential_splits[column_index]:\n",
        "            data_below, data_above = split_data(data, split_column=column_index, split_value=value)\n",
        "            current_overall_entropy = calculate_overall_entropy(data_below, data_above)\n",
        "\n",
        "            if current_overall_entropy <= overall_entropy:\n",
        "                overall_entropy = current_overall_entropy\n",
        "                best_split_column = column_index\n",
        "                best_split_value = value\n",
        "    \n",
        "    return best_split_column, best_split_value"
      ],
      "execution_count": 0,
      "outputs": []
    },
    {
      "metadata": {
        "id": "7oAqWgUqKplR",
        "colab_type": "code",
        "colab": {}
      },
      "cell_type": "code",
      "source": [
        "example_tree = {\"petal_width <= 0.8\": [\"Iris-setosa\", \n",
        "                                       {\"petal_width <= 1.65\": [{\"petal_length <= 4.9\": [\"Iris-versicolor\", \n",
        "                                                                                         \"Iris-virginica\"]}, \n",
        "                                                                \"Iris-virginica\"]}]}"
      ],
      "execution_count": 0,
      "outputs": []
    },
    {
      "metadata": {
        "id": "2BGeFidmKv3H",
        "colab_type": "code",
        "colab": {}
      },
      "cell_type": "code",
      "source": [
        "def determine_type_of_feature(df):\n",
        "    \n",
        "    feature_types = []\n",
        "    n_unique_values_treshold = 15\n",
        "    for feature in df.columns:\n",
        "        if feature != \"label\":\n",
        "            unique_values = df[feature].unique()\n",
        "            example_value = unique_values[0]\n",
        "\n",
        "            if (isinstance(example_value, str)) or (len(unique_values) <= n_unique_values_treshold):\n",
        "                feature_types.append(\"categorical\")\n",
        "            else:\n",
        "                feature_types.append(\"continuous\")\n",
        "    \n",
        "    return feature_types"
      ],
      "execution_count": 0,
      "outputs": []
    },
    {
      "metadata": {
        "id": "0Mphd7Cg9pEY",
        "colab_type": "code",
        "colab": {
          "base_uri": "https://localhost:8080/",
          "height": 34
        },
        "outputId": "1a3a0c0d-d961-49f5-83e1-85ddc90e0fb9"
      },
      "cell_type": "code",
      "source": [
        "ft= determine_type_of_feature(df)\n",
        "ft"
      ],
      "execution_count": 123,
      "outputs": [
        {
          "output_type": "execute_result",
          "data": {
            "text/plain": [
              "['continuous', 'continuous', 'continuous', 'continuous']"
            ]
          },
          "metadata": {
            "tags": []
          },
          "execution_count": 123
        }
      ]
    },
    {
      "metadata": {
        "id": "QaIJ5to-K_hX",
        "colab_type": "code",
        "colab": {}
      },
      "cell_type": "code",
      "source": [
        "def decision_tree_algorithm(df, counter=0, min_samples=2, max_depth=5):\n",
        "    \n",
        "    # data preparations\n",
        "    if counter == 0:\n",
        "        global COLUMN_HEADERS, FEATURE_TYPES\n",
        "        COLUMN_HEADERS = df.columns\n",
        "        FEATURE_TYPES = determine_type_of_feature(df)\n",
        "        data = df.values\n",
        "    else:\n",
        "        data = df           \n",
        "    \n",
        "    \n",
        "    # base cases\n",
        "    if (check_purity(data)) or (len(data) < min_samples) or (counter == max_depth):\n",
        "        classification = classify_data(data)\n",
        "        \n",
        "        return classification\n",
        "\n",
        "    \n",
        "    # recursive part\n",
        "    else:    \n",
        "        counter += 1\n",
        "\n",
        "        # helper functions \n",
        "        potential_splits = get_potential_splits(data)\n",
        "        split_column, split_value = determine_best_split(data, potential_splits)\n",
        "        data_below, data_above = split_data(data, split_column, split_value)\n",
        "        \n",
        "        # determine question\n",
        "        feature_name = COLUMN_HEADERS[split_column]\n",
        "        type_of_feature = FEATURE_TYPES[split_column]\n",
        "        if type_of_feature == \"continuous\":\n",
        "            question = \"{} <= {}\".format(feature_name, split_value)\n",
        "            \n",
        "        # feature is categorical\n",
        "        else:\n",
        "            question = \"{} = {}\".format(feature_name, split_value)\n",
        "        \n",
        "        # instantiate sub-tree\n",
        "        sub_tree = {question: []}\n",
        "        \n",
        "        # find answers (recursion)\n",
        "        yes_answer = decision_tree_algorithm(data_below, counter, min_samples, max_depth)\n",
        "        no_answer = decision_tree_algorithm(data_above, counter, min_samples, max_depth)\n",
        "        \n",
        "        # If the answers are the same, then there is no point in asking the qestion.\n",
        "        # This could happen when the data is classified even though it is not pure\n",
        "        # yet (min_samples or max_depth base case).\n",
        "        if yes_answer == no_answer:\n",
        "            sub_tree = yes_answer\n",
        "        else:\n",
        "            sub_tree[question].append(yes_answer)\n",
        "            sub_tree[question].append(no_answer)\n",
        "        \n",
        "        return sub_tree"
      ],
      "execution_count": 0,
      "outputs": []
    },
    {
      "metadata": {
        "id": "Iw-A-njhLjmN",
        "colab_type": "code",
        "outputId": "2d22fea1-f182-461e-c554-f530bf062afb",
        "colab": {
          "base_uri": "https://localhost:8080/",
          "height": 87
        }
      },
      "cell_type": "code",
      "source": [
        "tree = decision_tree_algorithm(train_df, max_depth=3)\n",
        "pprint(tree)"
      ],
      "execution_count": 125,
      "outputs": [
        {
          "output_type": "stream",
          "text": [
            "{'PetalWidthCm <= 0.8': ['Iris-setosa',\n",
            "                         {'PetalWidthCm <= 1.65': [{'PetalLengthCm <= 4.95': ['Iris-versicolor',\n",
            "                                                                              'Iris-virginica']},\n",
            "                                                   'Iris-virginica']}]}\n"
          ],
          "name": "stdout"
        }
      ]
    },
    {
      "metadata": {
        "id": "GAnlunTJLr7v",
        "colab_type": "code",
        "outputId": "47aae642-a0cd-4b04-d165-c3db7d966da0",
        "colab": {
          "base_uri": "https://localhost:8080/",
          "height": 122
        }
      },
      "cell_type": "code",
      "source": [
        "example = test_df.iloc[0]\n",
        "example"
      ],
      "execution_count": 126,
      "outputs": [
        {
          "output_type": "execute_result",
          "data": {
            "text/plain": [
              "SepalLengthCm                5.1\n",
              "SepalWidthCm                 2.5\n",
              "PetalLengthCm                  3\n",
              "PetalWidthCm                 1.1\n",
              "label            Iris-versicolor\n",
              "Name: 98, dtype: object"
            ]
          },
          "metadata": {
            "tags": []
          },
          "execution_count": 126
        }
      ]
    },
    {
      "metadata": {
        "id": "ehS3YIlYMGtu",
        "colab_type": "code",
        "colab": {}
      },
      "cell_type": "code",
      "source": [
        "def classify_example(example, tree):\n",
        "    question = list(tree.keys())[0]\n",
        "    feature_name, comparison_operator, value = question.split(\" \")\n",
        "\n",
        "    # ask question\n",
        "    if comparison_operator == \"<=\":\n",
        "        if example[feature_name] <= float(value):\n",
        "            answer = tree[question][0]\n",
        "        else:\n",
        "            answer = tree[question][1]\n",
        "    \n",
        "    # feature is categorical\n",
        "    else:\n",
        "        if str(example[feature_name]) == value:\n",
        "            answer = tree[question][0]\n",
        "        else:\n",
        "            answer = tree[question][1]\n",
        "\n",
        "    # base case\n",
        "    if not isinstance(answer, dict):\n",
        "        return answer\n",
        "    \n",
        "    # recursive part\n",
        "    else:\n",
        "        residual_tree = answer\n",
        "        return classify_example(example, residual_tree)"
      ],
      "execution_count": 0,
      "outputs": []
    },
    {
      "metadata": {
        "id": "LwCQKpORMWZK",
        "colab_type": "code",
        "outputId": "d875bd30-b386-42f0-896d-5c00df9c0fcb",
        "colab": {
          "base_uri": "https://localhost:8080/",
          "height": 34
        }
      },
      "cell_type": "code",
      "source": [
        "classify_example(example, tree)"
      ],
      "execution_count": 128,
      "outputs": [
        {
          "output_type": "execute_result",
          "data": {
            "text/plain": [
              "'Iris-versicolor'"
            ]
          },
          "metadata": {
            "tags": []
          },
          "execution_count": 128
        }
      ]
    },
    {
      "metadata": {
        "id": "xm8Tst4fMoxg",
        "colab_type": "code",
        "colab": {}
      },
      "cell_type": "code",
      "source": [
        "def calculate_accuracy(df, tree):\n",
        "\n",
        "    df[\"classification\"] = df.apply(classify_example, args=(tree,), axis=1)\n",
        "    df[\"classification_correct\"] = df[\"classification\"] == df[\"label\"]\n",
        "    \n",
        "    accuracy = df[\"classification_correct\"].mean()\n",
        "    \n",
        "    return accuracy"
      ],
      "execution_count": 0,
      "outputs": []
    },
    {
      "metadata": {
        "id": "rViwaolHV9yg",
        "colab_type": "code",
        "outputId": "da237c17-55f5-4f83-c9dd-1fef91ad094e",
        "colab": {
          "base_uri": "https://localhost:8080/",
          "height": 639
        }
      },
      "cell_type": "code",
      "source": [
        "test_df"
      ],
      "execution_count": 131,
      "outputs": [
        {
          "output_type": "execute_result",
          "data": {
            "text/html": [
              "<div>\n",
              "<style scoped>\n",
              "    .dataframe tbody tr th:only-of-type {\n",
              "        vertical-align: middle;\n",
              "    }\n",
              "\n",
              "    .dataframe tbody tr th {\n",
              "        vertical-align: top;\n",
              "    }\n",
              "\n",
              "    .dataframe thead th {\n",
              "        text-align: right;\n",
              "    }\n",
              "</style>\n",
              "<table border=\"1\" class=\"dataframe\">\n",
              "  <thead>\n",
              "    <tr style=\"text-align: right;\">\n",
              "      <th></th>\n",
              "      <th>SepalLengthCm</th>\n",
              "      <th>SepalWidthCm</th>\n",
              "      <th>PetalLengthCm</th>\n",
              "      <th>PetalWidthCm</th>\n",
              "      <th>label</th>\n",
              "    </tr>\n",
              "  </thead>\n",
              "  <tbody>\n",
              "    <tr>\n",
              "      <th>98</th>\n",
              "      <td>5.1</td>\n",
              "      <td>2.5</td>\n",
              "      <td>3.0</td>\n",
              "      <td>1.1</td>\n",
              "      <td>Iris-versicolor</td>\n",
              "    </tr>\n",
              "    <tr>\n",
              "      <th>107</th>\n",
              "      <td>7.3</td>\n",
              "      <td>2.9</td>\n",
              "      <td>6.3</td>\n",
              "      <td>1.8</td>\n",
              "      <td>Iris-virginica</td>\n",
              "    </tr>\n",
              "    <tr>\n",
              "      <th>10</th>\n",
              "      <td>5.4</td>\n",
              "      <td>3.7</td>\n",
              "      <td>1.5</td>\n",
              "      <td>0.2</td>\n",
              "      <td>Iris-setosa</td>\n",
              "    </tr>\n",
              "    <tr>\n",
              "      <th>66</th>\n",
              "      <td>5.6</td>\n",
              "      <td>3.0</td>\n",
              "      <td>4.5</td>\n",
              "      <td>1.5</td>\n",
              "      <td>Iris-versicolor</td>\n",
              "    </tr>\n",
              "    <tr>\n",
              "      <th>130</th>\n",
              "      <td>7.4</td>\n",
              "      <td>2.8</td>\n",
              "      <td>6.1</td>\n",
              "      <td>1.9</td>\n",
              "      <td>Iris-virginica</td>\n",
              "    </tr>\n",
              "    <tr>\n",
              "      <th>124</th>\n",
              "      <td>6.7</td>\n",
              "      <td>3.3</td>\n",
              "      <td>5.7</td>\n",
              "      <td>2.1</td>\n",
              "      <td>Iris-virginica</td>\n",
              "    </tr>\n",
              "    <tr>\n",
              "      <th>103</th>\n",
              "      <td>6.3</td>\n",
              "      <td>2.9</td>\n",
              "      <td>5.6</td>\n",
              "      <td>1.8</td>\n",
              "      <td>Iris-virginica</td>\n",
              "    </tr>\n",
              "    <tr>\n",
              "      <th>77</th>\n",
              "      <td>6.7</td>\n",
              "      <td>3.0</td>\n",
              "      <td>5.0</td>\n",
              "      <td>1.7</td>\n",
              "      <td>Iris-versicolor</td>\n",
              "    </tr>\n",
              "    <tr>\n",
              "      <th>122</th>\n",
              "      <td>7.7</td>\n",
              "      <td>2.8</td>\n",
              "      <td>6.7</td>\n",
              "      <td>2.0</td>\n",
              "      <td>Iris-virginica</td>\n",
              "    </tr>\n",
              "    <tr>\n",
              "      <th>91</th>\n",
              "      <td>6.1</td>\n",
              "      <td>3.0</td>\n",
              "      <td>4.6</td>\n",
              "      <td>1.4</td>\n",
              "      <td>Iris-versicolor</td>\n",
              "    </tr>\n",
              "    <tr>\n",
              "      <th>149</th>\n",
              "      <td>5.9</td>\n",
              "      <td>3.0</td>\n",
              "      <td>5.1</td>\n",
              "      <td>1.8</td>\n",
              "      <td>Iris-virginica</td>\n",
              "    </tr>\n",
              "    <tr>\n",
              "      <th>55</th>\n",
              "      <td>5.7</td>\n",
              "      <td>2.8</td>\n",
              "      <td>4.5</td>\n",
              "      <td>1.3</td>\n",
              "      <td>Iris-versicolor</td>\n",
              "    </tr>\n",
              "    <tr>\n",
              "      <th>129</th>\n",
              "      <td>7.2</td>\n",
              "      <td>3.0</td>\n",
              "      <td>5.8</td>\n",
              "      <td>1.6</td>\n",
              "      <td>Iris-virginica</td>\n",
              "    </tr>\n",
              "    <tr>\n",
              "      <th>35</th>\n",
              "      <td>5.0</td>\n",
              "      <td>3.2</td>\n",
              "      <td>1.2</td>\n",
              "      <td>0.2</td>\n",
              "      <td>Iris-setosa</td>\n",
              "    </tr>\n",
              "    <tr>\n",
              "      <th>72</th>\n",
              "      <td>6.3</td>\n",
              "      <td>2.5</td>\n",
              "      <td>4.9</td>\n",
              "      <td>1.5</td>\n",
              "      <td>Iris-versicolor</td>\n",
              "    </tr>\n",
              "    <tr>\n",
              "      <th>24</th>\n",
              "      <td>4.8</td>\n",
              "      <td>3.4</td>\n",
              "      <td>1.9</td>\n",
              "      <td>0.2</td>\n",
              "      <td>Iris-setosa</td>\n",
              "    </tr>\n",
              "    <tr>\n",
              "      <th>64</th>\n",
              "      <td>5.6</td>\n",
              "      <td>2.9</td>\n",
              "      <td>3.6</td>\n",
              "      <td>1.3</td>\n",
              "      <td>Iris-versicolor</td>\n",
              "    </tr>\n",
              "    <tr>\n",
              "      <th>136</th>\n",
              "      <td>6.3</td>\n",
              "      <td>3.4</td>\n",
              "      <td>5.6</td>\n",
              "      <td>2.4</td>\n",
              "      <td>Iris-virginica</td>\n",
              "    </tr>\n",
              "    <tr>\n",
              "      <th>37</th>\n",
              "      <td>4.9</td>\n",
              "      <td>3.1</td>\n",
              "      <td>1.5</td>\n",
              "      <td>0.1</td>\n",
              "      <td>Iris-setosa</td>\n",
              "    </tr>\n",
              "    <tr>\n",
              "      <th>79</th>\n",
              "      <td>5.7</td>\n",
              "      <td>2.6</td>\n",
              "      <td>3.5</td>\n",
              "      <td>1.0</td>\n",
              "      <td>Iris-versicolor</td>\n",
              "    </tr>\n",
              "  </tbody>\n",
              "</table>\n",
              "</div>"
            ],
            "text/plain": [
              "     SepalLengthCm  SepalWidthCm  PetalLengthCm  PetalWidthCm            label\n",
              "98             5.1           2.5            3.0           1.1  Iris-versicolor\n",
              "107            7.3           2.9            6.3           1.8   Iris-virginica\n",
              "10             5.4           3.7            1.5           0.2      Iris-setosa\n",
              "66             5.6           3.0            4.5           1.5  Iris-versicolor\n",
              "130            7.4           2.8            6.1           1.9   Iris-virginica\n",
              "124            6.7           3.3            5.7           2.1   Iris-virginica\n",
              "103            6.3           2.9            5.6           1.8   Iris-virginica\n",
              "77             6.7           3.0            5.0           1.7  Iris-versicolor\n",
              "122            7.7           2.8            6.7           2.0   Iris-virginica\n",
              "91             6.1           3.0            4.6           1.4  Iris-versicolor\n",
              "149            5.9           3.0            5.1           1.8   Iris-virginica\n",
              "55             5.7           2.8            4.5           1.3  Iris-versicolor\n",
              "129            7.2           3.0            5.8           1.6   Iris-virginica\n",
              "35             5.0           3.2            1.2           0.2      Iris-setosa\n",
              "72             6.3           2.5            4.9           1.5  Iris-versicolor\n",
              "24             4.8           3.4            1.9           0.2      Iris-setosa\n",
              "64             5.6           2.9            3.6           1.3  Iris-versicolor\n",
              "136            6.3           3.4            5.6           2.4   Iris-virginica\n",
              "37             4.9           3.1            1.5           0.1      Iris-setosa\n",
              "79             5.7           2.6            3.5           1.0  Iris-versicolor"
            ]
          },
          "metadata": {
            "tags": []
          },
          "execution_count": 131
        }
      ]
    },
    {
      "metadata": {
        "id": "jgl0UxZfcVGN",
        "colab_type": "code",
        "outputId": "194f0d34-1919-447a-da27-3a4face67f72",
        "colab": {
          "base_uri": "https://localhost:8080/",
          "height": 87
        }
      },
      "cell_type": "code",
      "source": [
        "tree"
      ],
      "execution_count": 132,
      "outputs": [
        {
          "output_type": "execute_result",
          "data": {
            "text/plain": [
              "{'PetalWidthCm <= 0.8': ['Iris-setosa',\n",
              "  {'PetalWidthCm <= 1.65': [{'PetalLengthCm <= 4.95': ['Iris-versicolor',\n",
              "      'Iris-virginica']},\n",
              "    'Iris-virginica']}]}"
            ]
          },
          "metadata": {
            "tags": []
          },
          "execution_count": 132
        }
      ]
    },
    {
      "metadata": {
        "id": "mAM5G16rNZeA",
        "colab_type": "code",
        "outputId": "79dec40a-683c-47cc-e3ac-3e550bf544ee",
        "colab": {
          "base_uri": "https://localhost:8080/",
          "height": 34
        }
      },
      "cell_type": "code",
      "source": [
        "accuracy = calculate_accuracy(test_df, tree)\n",
        "accuracy"
      ],
      "execution_count": 133,
      "outputs": [
        {
          "output_type": "execute_result",
          "data": {
            "text/plain": [
              "0.95"
            ]
          },
          "metadata": {
            "tags": []
          },
          "execution_count": 133
        }
      ]
    }
  ]
}
