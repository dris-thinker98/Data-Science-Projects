{
  "nbformat": 4,
  "nbformat_minor": 0,
  "metadata": {
    "colab": {
      "name": "PageRank_Algorithm.ipynb",
      "provenance": []
    },
    "kernelspec": {
      "name": "python3",
      "display_name": "Python 3"
    }
  },
  "cells": [
    {
      "cell_type": "markdown",
      "metadata": {
        "id": "C1uG48r0WrH1",
        "colab_type": "text"
      },
      "source": [
        "# PageRank Algorithm"
      ]
    },
    {
      "cell_type": "markdown",
      "metadata": {
        "id": "vRcdrIlhXIzk",
        "colab_type": "text"
      },
      "source": [
        "PageRank (PR) is an algorithm used by Google Search to rank websites in their search engine results. In other words, PageRank works by counting the number and quality of links to a page to determine a rough estimate of how important the website is. \n",
        "\n",
        "The PageRank algorithm outputs a probability distribution used to represent the likelihood that a person randomly clicking on links will arrive at any particular page. "
      ]
    },
    {
      "cell_type": "markdown",
      "metadata": {
        "id": "AJZoCBy1CvbJ",
        "colab_type": "text"
      },
      "source": [
        "This code will compute PageRank of a given square matrix.\n",
        "\n",
        "In the main method, we classified different matrices and calculated the computation time of each matrix to compare with the Google's index which is over 4.7 billion pages."
      ]
    },
    {
      "cell_type": "code",
      "metadata": {
        "id": "cipHI6U4WovE",
        "colab_type": "code",
        "colab": {}
      },
      "source": [
        "!pip install -U -q PyDrive\n",
        "from pydrive.auth import GoogleAuth\n",
        "from pydrive.drive import GoogleDrive\n",
        "from google.colab import auth\n",
        "from oauth2client.client import GoogleCredentials"
      ],
      "execution_count": 0,
      "outputs": []
    },
    {
      "cell_type": "code",
      "metadata": {
        "id": "T7g8Gaq8ECzY",
        "colab_type": "code",
        "colab": {}
      },
      "source": [
        "auth.authenticate_user()\n",
        "gauth = GoogleAuth()\n",
        "gauth.credentials = GoogleCredentials.get_application_default()\n",
        "drive = GoogleDrive(gauth)"
      ],
      "execution_count": 0,
      "outputs": []
    },
    {
      "cell_type": "code",
      "metadata": {
        "id": "JPqnbVnKyy62",
        "colab_type": "code",
        "colab": {}
      },
      "source": [
        "import numpy as np\n",
        "from scipy.sparse import csc_matrix"
      ],
      "execution_count": 0,
      "outputs": []
    },
    {
      "cell_type": "code",
      "metadata": {
        "id": "4c6tWPzUzQlG",
        "colab_type": "code",
        "colab": {}
      },
      "source": [
        "def pageRank(G, s = .85, maxerr = .0001):\n",
        "  n = G.shape[0]\n",
        "\n",
        "  # transform G into markov matrix A\n",
        "  A = csc_matrix(G,dtype=np.float)\n",
        "  rsums = np.array(A.sum(1))[:,0]\n",
        "  ri, ci = A.nonzero()\n",
        "  A.data /= rsums[ri]\n",
        "\n",
        "  # bool array of sink states\n",
        "  sink = rsums==0\n",
        "  # Compute pagerank r until we converge\n",
        "  ro, r = np.zeros(n), np.ones(n)\n",
        "  while np.sum(np.abs(r-ro)) > maxerr:\n",
        "      ro = r.copy()\n",
        "      # calculate each pagerank at a time\n",
        "      for i in range(0,n):\n",
        "          # inlinks of state i\n",
        "          Ai = np.array(A[:,i].todense())[:,0]\n",
        "          # account for sink states\n",
        "          Di = sink / float(n)\n",
        "          # account for teleportation to state i\n",
        "          Ei = np.ones(n) / float(n)\n",
        "          r[i] = ro.dot( Ai*s + Di*s + Ei*(1-s) )\n",
        "  # return normalized pagerank\n",
        "  return r/float(sum(r))"
      ],
      "execution_count": 0,
      "outputs": []
    },
    {
      "cell_type": "code",
      "metadata": {
        "id": "jvoefn0t0aNo",
        "colab_type": "code",
        "colab": {
          "base_uri": "https://localhost:8080/",
          "height": 538
        },
        "outputId": "48b4b112-c7d8-4afe-c5cb-05b0165db281"
      },
      "source": [
        "if __name__=='__main__':\n",
        "    # Example extracted from 'Introduction to Information Retrieval'\n",
        "    import time\n",
        "    \n",
        "    #Stochastic 10 x 10 matrix created\n",
        "    start_time = time.time()\n",
        "    G = np.array([[0,0,1,0,0,0,0,0,0,0],\n",
        "                  [0,0.5,0.5,0,0,0,0,0,0,0],\n",
        "                  [0.5,0,0.5,0,0,0,0,0,0,0],\n",
        "                  [0,0,0,0.5,0.5,0,0,0,0,0],\n",
        "                  [0,0,0,0,0,0,0,0,0,0],\n",
        "                  [0,0,0,0,0,0,1,0,0,0],\n",
        "                  [0,0,0,0,0,0.5,0.5,0,0,0],\n",
        "                  [0,0.25,0,0.25,0.25,0,0.25,0,0,0],\n",
        "                  [0,0,0,0,0,0,0,0,0,0],\n",
        "                  [0,0,0,0,0,0,0,0,0,0]])\n",
        "    print(\"Stochastic Matrix 10x10 Page Rank \\n\",pageRank(G,s=.86,maxerr = .0000000000000000001))\n",
        "    print('\\n')\n",
        "    print(\"Time taken to compute Stochastic Matrix 10x10 Page Rank\")\n",
        "    print(\"--- %s seconds ---\" % (time.time() - start_time))\n",
        "    print('\\n')\n",
        "    \n",
        "    start_time = time.time()\n",
        "    G = np.array([[1/60,7/15,7/15,1/60,1/60,1/60],\n",
        "                  [1/6,1/6,1/6,1/6,1/6,1/6],\n",
        "                  [19/60,19/60,1/60,1/60,19/60,1/60],\n",
        "                  [1/60,1/60,1/60,1/60,7/15,7/15],\n",
        "                  [1/60,1/60,1/60,7/15,1/60,7/15],\n",
        "                  [1/60,1/60,1/60,11/12,1/60,1/60]])\n",
        "    print(\"Irreducible and Stochastic Matrix Page Rank\\n\",pageRank(G, s = 0.86))\n",
        "    print('\\n')\n",
        "    print(\"Time taken to compute Irreducible and Stochastic Matrix\")\n",
        "    print(\"--- %s seconds ---\" % (time.time() - start_time))\n",
        "    print('\\n')\n",
        "          \n",
        "    start_time = time.time()\n",
        "    G = np.array([[0,.5,.5,0,0,0],\n",
        "                  [1/6,1/6,1/6,1/6,1/6,1/6],\n",
        "                  [1/3,1/3,0,0,1/3,0],\n",
        "                  [0,0,0,0,0.5,0.5],\n",
        "                  [0,0,0,0.5,0,0.5],\n",
        "                  [0,0,0,1,0,0]])\n",
        "    print(\"Stochastic Matrix only Page Rank \\n\",pageRank(G, s = 0.86))    \n",
        "    print('\\n')\n",
        "    print(\"Time taken to compute stochastic matrix only\")\n",
        "    print(\"--- %s seconds ---\" % (time.time() - start_time))\n",
        "    print('\\n')\n",
        "    \n",
        "    #Not irreducible and not stochastic\n",
        "    start_time = time.time()\n",
        "    G = np.array([[0,.5,.5,0,0,0],\n",
        "                  [0,0,0,0,0,0],\n",
        "                  [1/3,1/3,0,0,1/3,0],\n",
        "                  [0,0,0,0,0.5,0.5],\n",
        "                  [0,0,0,0.5,0,0.5],\n",
        "                  [0,0,0,1,0,0]])\n",
        "    print(\"Not irreducible and not stochastic matrix Page Rank \\n\",pageRank(G, s = 0.86))\n",
        "    print('\\n')\n",
        "    print(\"Time taken to compute Not irreducible and not stochastic\")\n",
        "    print(\"--- %s seconds ---\" % (time.time() - start_time))\n"
      ],
      "execution_count": 37,
      "outputs": [
        {
          "output_type": "stream",
          "text": [
            "Stochastic Matrix 10x10 Page Rank \n",
            " [0.1512237  0.04628949 0.30118057 0.04628949 0.04628949 0.11850004\n",
            " 0.22507903 0.02171606 0.02171606 0.02171606]\n",
            "\n",
            "\n",
            "Time taken to compute Stochastic Matrix 10x10 Page Rank\n",
            "--- 0.18452167510986328 seconds ---\n",
            "\n",
            "\n",
            "Irreducible and Stochastic Matrix Page Rank\n",
            " [0.07019468 0.09736084 0.07739285 0.31577034 0.1923962  0.2468851 ]\n",
            "\n",
            "\n",
            "Time taken to compute Irreducible and Stochastic Matrix\n",
            "--- 0.021208763122558594 seconds ---\n",
            "\n",
            "\n",
            "Stochastic Matrix only Page Rank \n",
            " [0.04897697 0.07003764 0.05443305 0.35363387 0.20103841 0.27188006]\n",
            "\n",
            "\n",
            "Time taken to compute stochastic matrix only\n",
            "--- 0.025992393493652344 seconds ---\n",
            "\n",
            "\n",
            "Not irreducible and not stochastic matrix Page Rank \n",
            " [0.04897697 0.07003764 0.05443305 0.35363387 0.20103841 0.27188006]\n",
            "\n",
            "\n",
            "Time taken to compute Not irreducible and not stochastic\n",
            "--- 0.027169227600097656 seconds ---\n"
          ],
          "name": "stdout"
        }
      ]
    },
    {
      "cell_type": "code",
      "metadata": {
        "id": "Vl9t610u0n0o",
        "colab_type": "code",
        "colab": {}
      },
      "source": [
        ""
      ],
      "execution_count": 0,
      "outputs": []
    }
  ]
}