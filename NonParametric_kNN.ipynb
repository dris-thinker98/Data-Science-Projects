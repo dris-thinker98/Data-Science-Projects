{
  "nbformat": 4,
  "nbformat_minor": 0,
  "metadata": {
    "colab": {
      "name": "NonParametric-kNN.ipynb",
      "provenance": []
    },
    "kernelspec": {
      "name": "python3",
      "display_name": "Python 3"
    }
  },
  "cells": [
    {
      "cell_type": "code",
      "metadata": {
        "id": "OV5grKlxPXg9",
        "colab_type": "code",
        "colab": {}
      },
      "source": [
        "!pip install -U -q PyDrive\n",
        "from pydrive.auth import GoogleAuth\n",
        "from pydrive.drive import GoogleDrive\n",
        "from google.colab import auth\n",
        "from oauth2client.client import GoogleCredentials"
      ],
      "execution_count": 0,
      "outputs": []
    },
    {
      "cell_type": "code",
      "metadata": {
        "id": "AwmzIyoJ1NQy",
        "colab_type": "code",
        "colab": {}
      },
      "source": [
        "#authenticate\n",
        "auth.authenticate_user()\n",
        "gauth = GoogleAuth()\n",
        "gauth.credentials = GoogleCredentials.get_application_default()\n",
        "drive = GoogleDrive(gauth)"
      ],
      "execution_count": 0,
      "outputs": []
    },
    {
      "cell_type": "code",
      "metadata": {
        "id": "Q2t-Bz0p1tEu",
        "colab_type": "code",
        "colab": {}
      },
      "source": [
        "import numpy as np\n",
        "from sklearn.neighbors import NearestNeighbors"
      ],
      "execution_count": 0,
      "outputs": []
    },
    {
      "cell_type": "code",
      "metadata": {
        "id": "JsbuEMKV4P88",
        "colab_type": "code",
        "colab": {}
      },
      "source": [
        "def L2(pred,true):\n",
        "    loss = np.square(pred-true)\n",
        "    return loss.mean()"
      ],
      "execution_count": 0,
      "outputs": []
    },
    {
      "cell_type": "code",
      "metadata": {
        "id": "uwShocVe4VMr",
        "colab_type": "code",
        "colab": {}
      },
      "source": [
        "def L1(pred,true):\n",
        "    loss = np.abs(pred-true)\n",
        "    return loss.mean()"
      ],
      "execution_count": 0,
      "outputs": []
    },
    {
      "cell_type": "code",
      "metadata": {
        "id": "uJdlTSFZ4rCu",
        "colab_type": "code",
        "colab": {}
      },
      "source": [
        "def SMAPE(pred,true):\n",
        "    loss = np.abs((pred-true)/(pred+true))\n",
        "    return loss.mean()"
      ],
      "execution_count": 0,
      "outputs": []
    },
    {
      "cell_type": "code",
      "metadata": {
        "id": "yWpoeT6T41Rh",
        "colab_type": "code",
        "colab": {}
      },
      "source": [
        "#This function chooses the best point estimate for a numpy array, according to a particular loss.\n",
        "#The loss function should take two numpy arrays as arguments, and return a scalar. One example is SMAPE, see above.\n",
        "\n",
        "def solver(x,loss):\n",
        "    mean = x.mean()\n",
        "    best = loss(mean,x)\n",
        "    result = mean\n",
        "    for i in x:\n",
        "        score = loss(i,x)\n",
        "        if score < best:\n",
        "            best = score\n",
        "            result = i\n",
        "    return result"
      ],
      "execution_count": 0,
      "outputs": []
    },
    {
      "cell_type": "code",
      "metadata": {
        "id": "8R3LZoyI47Dp",
        "colab_type": "code",
        "colab": {}
      },
      "source": [
        "class NonparametricKNN(object):\n",
        "    def __init__(self,n_neighbors=5,loss='L2'):\n",
        "        if loss in ['L1','L2','SMAPE']:\n",
        "            loss = {'L1':L1,'L2':L2,'SMAPE':SMAPE}[loss]\n",
        "        self.model = NearestNeighbors(n_neighbors,algorithm='auto',n_jobs=-1)\n",
        "        self.solver = lambda x:solver(x,loss)\n",
        "    def fit(self,train,target):#All inputs should be numpy arrays.\n",
        "        self.model.fit(train)\n",
        "        self.f=np.vectorize(lambda x:target[x])\n",
        "        return self\n",
        "    def predict(self,test):#Return predictions as a numpy array.\n",
        "        neighbors = self.model.kneighbors(test,return_distance=False)\n",
        "        neighbors = self.f(neighbors)\n",
        "        result = np.apply_along_axis(self.solver,1,neighbors)\n",
        "        return result"
      ],
      "execution_count": 0,
      "outputs": []
    },
    {
      "cell_type": "code",
      "metadata": {
        "id": "vA5SObWV5wZM",
        "colab_type": "code",
        "colab": {}
      },
      "source": [
        "#train, target and test data\n",
        "train = np.array([[1,1,1],[2,2,2],[3,3,3],[4,4,4],[5,5,5]])\n",
        "target = np.array([1,2,3,7,17])\n",
        "test = np.array([[3,3,3],[6,6,6]])"
      ],
      "execution_count": 0,
      "outputs": []
    },
    {
      "cell_type": "code",
      "metadata": {
        "id": "idHxWu_Y5-yF",
        "colab_type": "code",
        "colab": {}
      },
      "source": [
        "#Initialize model\n",
        "model = NonparametricKNN(n_neighbors=3,loss='L2')"
      ],
      "execution_count": 0,
      "outputs": []
    },
    {
      "cell_type": "code",
      "metadata": {
        "id": "BBRlK8QP6oTs",
        "colab_type": "code",
        "colab": {
          "base_uri": "https://localhost:8080/",
          "height": 34
        },
        "outputId": "776b9d80-1bcc-4a2e-fcaa-15e963c2b902"
      },
      "source": [
        "#Train the model and predict using it\n",
        "#Train\n",
        "model.fit(train,target)\n",
        "#Predict\n",
        "model.predict(test)"
      ],
      "execution_count": 15,
      "outputs": [
        {
          "output_type": "execute_result",
          "data": {
            "text/plain": [
              "array([4., 9.])"
            ]
          },
          "metadata": {
            "tags": []
          },
          "execution_count": 15
        }
      ]
    },
    {
      "cell_type": "code",
      "metadata": {
        "id": "vOE2B0ER7HdJ",
        "colab_type": "code",
        "colab": {
          "base_uri": "https://localhost:8080/",
          "height": 34
        },
        "outputId": "dddf7314-f4f1-4230-c25e-800012b44b64"
      },
      "source": [
        "#When we use L2 loss, we get exactly the same result as the KNN regressor in sklearn.\n",
        "from sklearn.neighbors import KNeighborsRegressor\n",
        "model = NonparametricKNN(n_neighbors=3)\n",
        "model.fit(train,target)\n",
        "model.predict(test)"
      ],
      "execution_count": 16,
      "outputs": [
        {
          "output_type": "execute_result",
          "data": {
            "text/plain": [
              "array([4., 9.])"
            ]
          },
          "metadata": {
            "tags": []
          },
          "execution_count": 16
        }
      ]
    },
    {
      "cell_type": "code",
      "metadata": {
        "id": "j2rSYshS7JsT",
        "colab_type": "code",
        "colab": {
          "base_uri": "https://localhost:8080/",
          "height": 34
        },
        "outputId": "5a7f5bbe-f372-4c66-c2cc-a86ac4d3cc54"
      },
      "source": [
        "#When we use other loss, predictions could be different.\n",
        "model = NonparametricKNN(n_neighbors=3,loss='L1')\n",
        "model.fit(train,target)\n",
        "model.predict(test)"
      ],
      "execution_count": 17,
      "outputs": [
        {
          "output_type": "execute_result",
          "data": {
            "text/plain": [
              "array([3, 7])"
            ]
          },
          "metadata": {
            "tags": []
          },
          "execution_count": 17
        }
      ]
    },
    {
      "cell_type": "code",
      "metadata": {
        "id": "aOHki13P_QCD",
        "colab_type": "code",
        "colab": {
          "base_uri": "https://localhost:8080/",
          "height": 34
        },
        "outputId": "5c4c3c07-b207-4b7d-847f-06a053a580de"
      },
      "source": [
        "#Customized loss\n",
        "def loss(pred,true):#Loss function should take two numpy arrays as inputs...\n",
        "    result = np.power(pred-true,4)\n",
        "    return result.mean()#and return a scalar.\n",
        "model = NonparametricKNN(n_neighbors=3,loss=loss)#Pass the loss function as argument.\n",
        "model.fit(train,target)\n",
        "model.predict(test)"
      ],
      "execution_count": 18,
      "outputs": [
        {
          "output_type": "execute_result",
          "data": {
            "text/plain": [
              "array([4., 9.])"
            ]
          },
          "metadata": {
            "tags": []
          },
          "execution_count": 18
        }
      ]
    }
  ]
}